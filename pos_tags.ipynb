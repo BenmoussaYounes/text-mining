{
 "cells": [
  {
   "cell_type": "code",
   "execution_count": 1,
   "metadata": {},
   "outputs": [],
   "source": [
    "from dotenv import load_dotenv\n",
    "import os"
   ]
  },
  {
   "cell_type": "code",
   "execution_count": 2,
   "metadata": {},
   "outputs": [],
   "source": [
    "import pandas as pd\n",
    "import spacy"
   ]
  },
  {
   "cell_type": "code",
   "execution_count": 3,
   "metadata": {},
   "outputs": [],
   "source": [
    "load_dotenv()\n",
    "path = os.getenv(\"GLOBAL_PATH\")"
   ]
  },
  {
   "cell_type": "code",
   "execution_count": 4,
   "metadata": {},
   "outputs": [
    {
     "name": "stdout",
     "output_type": "stream",
     "text": [
      "        category                                               text  \\\n",
      "0           tech  tv future in the hands of viewers with home th...   \n",
      "1       business  worldcom boss  left books alone  former worldc...   \n",
      "2          sport  tigers wary of farrell  gamble  leicester say ...   \n",
      "3          sport  yeading face newcastle in fa cup premiership s...   \n",
      "4  entertainment  ocean s twelve raids box office ocean s twelve...   \n",
      "\n",
      "                                            pos_tags  \n",
      "0  [(tv, VERB), (future, NOUN), (in, ADP), (the, ...  \n",
      "1  [(worldcom, PROPN), (boss, NOUN), ( , SPACE), ...  \n",
      "2  [(tigers, NOUN), (wary, ADJ), (of, ADP), (farr...  \n",
      "3  [(yeading, VERB), (face, NOUN), (newcastle, NO...  \n",
      "4  [(ocean, PROPN), (s, PART), (twelve, NUM), (ra...  \n"
     ]
    }
   ],
   "source": [
    "# Load the spaCy English model\n",
    "nlp = spacy.load(\"en_core_web_sm\")\n",
    "\n",
    "# Load the corpus\n",
    "corpus = pd.read_csv(f'{path}bbc-text.csv', encoding='utf-8')\n",
    "corpus = corpus[:100]  # For the sake of time, we'll only use the first 100 rows\n",
    "\n",
    "def extract_pos_tags(text):\n",
    "    doc = nlp(text)\n",
    "    pos_tags = [(token.text, token.pos_) for token in doc]\n",
    "    return pos_tags\n",
    "\n",
    "# Apply the function to each row in the DataFrame\n",
    "corpus['pos_tags'] = corpus['text'].apply(extract_pos_tags)\n",
    "\n",
    "# Display the DataFrame with the new 'pos_tags' column\n",
    "print(corpus.head())"
   ]
  }
 ],
 "metadata": {
  "kernelspec": {
   "display_name": "Python 3",
   "language": "python",
   "name": "python3"
  },
  "language_info": {
   "codemirror_mode": {
    "name": "ipython",
    "version": 3
   },
   "file_extension": ".py",
   "mimetype": "text/x-python",
   "name": "python",
   "nbconvert_exporter": "python",
   "pygments_lexer": "ipython3",
   "version": "3.10.7"
  }
 },
 "nbformat": 4,
 "nbformat_minor": 2
}
